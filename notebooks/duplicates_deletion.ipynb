{
 "cells": [
  {
   "cell_type": "code",
   "execution_count": 1,
   "id": "3b6c1b5f",
   "metadata": {},
   "outputs": [],
   "source": [
    "import pandas as pd\n",
    "import numpy as np\n",
    "from numpy.linalg import norm\n",
    "import os\n",
    "import os.path as op\n",
    "import sys\n",
    "import itertools\n",
    "#from gensim.matutils import softcossim"
   ]
  },
  {
   "cell_type": "code",
   "execution_count": null,
   "id": "55360560",
   "metadata": {},
   "outputs": [],
   "source": [
    "df = pd.read_csv('reddit_posts_2022_07_21-10_16_58_AM.csv', index_col=0)\n",
    "df.reset_index(inplace=True)"
   ]
  },
  {
   "cell_type": "code",
   "execution_count": 3,
   "id": "d8e882c8",
   "metadata": {},
   "outputs": [],
   "source": [
    "from sklearn.feature_extraction.text import TfidfVectorizer\n",
    "\n",
    "# initialize the vectorizer\n",
    "vectorizer = TfidfVectorizer(sublinear_tf=True, min_df=5, max_df=0.95)\n",
    "# fit_transform applies TF-IDF to clean texts - we save the array of vectors in X\n",
    "X_raw_tfidf = vectorizer.fit_transform(df['selftext'])"
   ]
  },
  {
   "cell_type": "code",
   "execution_count": 8,
   "id": "791d4ddb",
   "metadata": {
    "scrolled": true
   },
   "outputs": [
    {
     "name": "stdout",
     "output_type": "stream",
     "text": [
      "<class 'pandas.core.frame.DataFrame'>\n",
      "RangeIndex: 27216 entries, 0 to 27215\n",
      "Data columns (total 83 columns):\n",
      " #   Column                         Non-Null Count  Dtype  \n",
      "---  ------                         --------------  -----  \n",
      " 0   index                          27216 non-null  int64  \n",
      " 1   _id                            27216 non-null  object \n",
      " 2   all_awardings                  27216 non-null  object \n",
      " 3   allow_live_comments            27216 non-null  object \n",
      " 4   author                         27216 non-null  object \n",
      " 5   author_flair_css_class         0 non-null      float64\n",
      " 6   author_flair_richtext          27212 non-null  object \n",
      " 7   author_flair_text              1425 non-null   object \n",
      " 8   author_flair_type              27212 non-null  object \n",
      " 9   author_fullname                27212 non-null  object \n",
      " 10  author_is_blocked              18096 non-null  object \n",
      " 11  author_patreon_flair           27212 non-null  object \n",
      " 12  author_premium                 27212 non-null  object \n",
      " 13  awarders                       27216 non-null  object \n",
      " 14  can_mod_post                   27216 non-null  object \n",
      " 15  contest_mode                   27216 non-null  object \n",
      " 16  created_utc                    27216 non-null  float64\n",
      " 17  domain                         27216 non-null  object \n",
      " 18  full_link                      27216 non-null  object \n",
      " 19  gildings                       27216 non-null  object \n",
      " 20  id                             27216 non-null  object \n",
      " 21  is_created_from_ads_ui         19865 non-null  object \n",
      " 22  is_crosspostable               27216 non-null  object \n",
      " 23  is_meta                        27216 non-null  object \n",
      " 24  is_original_content            27216 non-null  object \n",
      " 25  is_reddit_media_domain         27216 non-null  object \n",
      " 26  is_robot_indexable             27216 non-null  object \n",
      " 27  is_self                        27216 non-null  object \n",
      " 28  is_video                       27216 non-null  object \n",
      " 29  link_flair_background_color    21424 non-null  object \n",
      " 30  link_flair_richtext            27216 non-null  object \n",
      " 31  link_flair_template_id         21424 non-null  object \n",
      " 32  link_flair_text                21424 non-null  object \n",
      " 33  link_flair_text_color          27216 non-null  object \n",
      " 34  link_flair_type                27216 non-null  object \n",
      " 35  locked                         27216 non-null  object \n",
      " 36  media_only                     27216 non-null  object \n",
      " 37  no_follow                      27216 non-null  object \n",
      " 38  num_comments                   27216 non-null  float64\n",
      " 39  num_crossposts                 27216 non-null  float64\n",
      " 40  over_18                        27216 non-null  object \n",
      " 41  parent_whitelist_status        16815 non-null  object \n",
      " 42  permalink                      27216 non-null  object \n",
      " 43  pinned                         27216 non-null  object \n",
      " 44  pwls                           16815 non-null  float64\n",
      " 45  retrieved_on                   27216 non-null  float64\n",
      " 46  score                          27216 non-null  float64\n",
      " 47  selftext                       27216 non-null  object \n",
      " 48  send_replies                   27216 non-null  object \n",
      " 49  spoiler                        27216 non-null  object \n",
      " 50  stickied                       27216 non-null  object \n",
      " 51  subreddit                      27216 non-null  object \n",
      " 52  subreddit_id                   27216 non-null  object \n",
      " 53  subreddit_subscribers          27216 non-null  float64\n",
      " 54  subreddit_type                 27216 non-null  object \n",
      " 55  thumbnail                      27216 non-null  object \n",
      " 56  title                          27216 non-null  object \n",
      " 57  total_awards_received          27216 non-null  float64\n",
      " 58  treatment_tags                 27216 non-null  object \n",
      " 59  upvote_ratio                   27216 non-null  float64\n",
      " 60  url                            27216 non-null  object \n",
      " 61  whitelist_status               16815 non-null  object \n",
      " 62  wls                            16815 non-null  float64\n",
      " 63  author_flair_background_color  1420 non-null   object \n",
      " 64  author_flair_template_id       1425 non-null   object \n",
      " 65  author_flair_text_color        1429 non-null   object \n",
      " 66  post_hint                      1331 non-null   object \n",
      " 67  preview                        1331 non-null   object \n",
      " 68  poll_data                      994 non-null    object \n",
      " 69  removed_by_category            35 non-null     object \n",
      " 70  media_metadata                 89 non-null     object \n",
      " 71  thumbnail_height               84 non-null     float64\n",
      " 72  thumbnail_width                84 non-null     float64\n",
      " 73  author_cakeday                 90 non-null     object \n",
      " 74  edited                         154 non-null    float64\n",
      " 75  distinguished                  15 non-null     object \n",
      " 76  discussion_type                170 non-null    object \n",
      " 77  suggested_sort                 170 non-null    object \n",
      " 78  call_to_action                 0 non-null      float64\n",
      " 79  category                       0 non-null      float64\n",
      " 80  event_end                      2 non-null      float64\n",
      " 81  event_is_live                  2 non-null      float64\n",
      " 82  event_start                    2 non-null      float64\n",
      "dtypes: float64(19), int64(1), object(63)\n",
      "memory usage: 17.2+ MB\n"
     ]
    }
   ],
   "source": [
    "df.info()"
   ]
  },
  {
   "cell_type": "code",
   "execution_count": 9,
   "id": "a1a1bf3e",
   "metadata": {},
   "outputs": [],
   "source": [
    "from sklearn.metrics.pairwise import cosine_similarity\n",
    "\n",
    "#def cosine_similarity(a, b):\n",
    "#    return np.inner(a,b)/(norm(a)*norm(b))\n",
    "\n",
    "def delete_similar_text_from_df(df):\n",
    "    if df.shape[0] == 1:\n",
    "        return df\n",
    "    else:\n",
    "        tf_idf_vectors = vectorizer.fit_transform(df['selftext'])\n",
    "        all_indices = df.index.values.tolist()\n",
    "        all_combinations = itertools.combinations(all_indices, 2)\n",
    "        new_indices = []\n",
    "        \n",
    "        while(len(all_indices) > 1):\n",
    "            \n",
    "            first = all_indices[0]\n",
    "            rest = all_indices[1::]\n",
    "            \n",
    "            vec1 = tf_idf_vectors[first]\n",
    "        \n",
    "            for i in rest:\n",
    "                vec2 = tf_idf_vectors[i]\n",
    "                cossim = cosine_similarity(vec1, vec2)\n",
    "                \n",
    "                if (cossim > 0.98):\n",
    "                    all_indices.remove(i)\n",
    "                    \n",
    "            new_indices.append(first)\n",
    "            all_indices.remove(first)\n",
    "\n",
    "        else:\n",
    "            if len(all_indices) > 0:\n",
    "                new_indices.append(all_indices[0])\n",
    "        return df.iloc[new_indices]\n"
   ]
  },
  {
   "cell_type": "code",
   "execution_count": null,
   "id": "8f1337c0",
   "metadata": {
    "scrolled": true
   },
   "outputs": [],
   "source": [
    "new_df = delete_similar_text_from_df(df)"
   ]
  },
  {
   "cell_type": "code",
   "execution_count": 23,
   "id": "20f8d75e",
   "metadata": {},
   "outputs": [],
   "source": [
    "# exporting the dataset without content based duplicates into csv\n",
    "new_df.drop(['removed_by_category', 'author_flair_template_id', 'media_metadata'], axis=1).to_csv(\"reddit_posts_2022_07_21-10_16_58_AM_no_duplicates.csv\")\n",
    "n_df = pd.read_csv(\"reddit_posts_2022_07_21-10_16_58_AM_no_duplicates.csv\", index_col=0)"
   ]
  },
  {
   "cell_type": "code",
   "execution_count": null,
   "id": "d9e33610",
   "metadata": {},
   "outputs": [],
   "source": []
  },
  {
   "cell_type": "code",
   "execution_count": null,
   "id": "dbfcc1d1",
   "metadata": {},
   "outputs": [],
   "source": []
  }
 ],
 "metadata": {
  "kernelspec": {
   "display_name": "Python 3 (ipykernel)",
   "language": "python",
   "name": "python3"
  },
  "language_info": {
   "codemirror_mode": {
    "name": "ipython",
    "version": 3
   },
   "file_extension": ".py",
   "mimetype": "text/x-python",
   "name": "python",
   "nbconvert_exporter": "python",
   "pygments_lexer": "ipython3",
   "version": "3.8.10"
  }
 },
 "nbformat": 4,
 "nbformat_minor": 5
}
