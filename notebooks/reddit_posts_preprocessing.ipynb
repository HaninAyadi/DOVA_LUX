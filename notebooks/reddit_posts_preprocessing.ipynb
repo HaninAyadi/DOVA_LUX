{
 "cells": [
  {
   "cell_type": "code",
   "execution_count": null,
   "id": "8f8b2104",
   "metadata": {},
   "outputs": [],
   "source": [
    "import pandas as pd\n",
    "import datetime as dt\n",
    "\n",
    "# Reading the dataset to preprocess\n",
    "df = pd.read_csv('reddit_posts_2022_07_21-10_16_58_AM_no_duplicates_personnal_corrected.csv', index_col=0)\n",
    "df.info()"
   ]
  },
  {
   "cell_type": "markdown",
   "id": "8305d18e",
   "metadata": {},
   "source": [
    "### Data Preprocessing"
   ]
  },
  {
   "cell_type": "code",
   "execution_count": null,
   "id": "68ce0073",
   "metadata": {},
   "outputs": [],
   "source": [
    "# Importing and downloading the necessary text processing tools\n",
    "import re, string, unicodedata\n",
    "import nltk\n",
    "import contractions # expanding contractions\n",
    "import inflect # natural language related tasks of generating plurals, singular nouns, etc.\n",
    "from nltk import word_tokenize, sent_tokenize\n",
    "from nltk.corpus import stopwords\n",
    "from nltk.stem import LancasterStemmer, WordNetLemmatizer\n",
    "from nltk.tokenize import TweetTokenizer\n",
    "import string\n",
    "\n",
    "\n",
    "#nltk.download('punkt')\n",
    "#nltk.download('stopwords')\n",
    "#nltk.download('wordnet')\n",
    "#nltk.download('averaged_perceptron_tagger')\n",
    "#nltk.download('omw-1.4')"
   ]
  },
  {
   "cell_type": "code",
   "execution_count": null,
   "id": "b90d9389",
   "metadata": {},
   "outputs": [],
   "source": [
    "import sys\n",
    "\n",
    "# Adding the utils preprocess folder to the import path to be able to easily use the defined functions\n",
    "sys.path.append(\"../utils/preprocess\")"
   ]
  },
  {
   "cell_type": "code",
   "execution_count": null,
   "id": "6c4580ae",
   "metadata": {
    "scrolled": true
   },
   "outputs": [],
   "source": [
    "from preprocess import Preprocess\n",
    "\n",
    "# Creating the preprocessor object\n",
    "prep = Preprocess()"
   ]
  },
  {
   "cell_type": "code",
   "execution_count": null,
   "id": "49849a01",
   "metadata": {},
   "outputs": [],
   "source": [
    "# Defining functions to replace frequent text expressions in the text\n",
    "\n",
    "# The arg Key values consists of a tuple of the expressions to replace and the replacement\n",
    "def multiple_replacer(*key_values):\n",
    "    replace_dict = dict(key_values)\n",
    "    replacement_function = lambda match: replace_dict[match.group(0)]\n",
    "    pattern = re.compile(\"|\".join([re.escape(k) for k, v in key_values]), re.M)\n",
    "    return lambda string: pattern.sub(replacement_function, string)\n",
    "\n",
    "def multiple_replace(string, *key_values):\n",
    "    return multiple_replacer(*key_values)(string)\n",
    "\n",
    "# Example of execution where we replace the expression 'value to replace' with 'replacement'\n",
    "multiple_replace('example: value to replace', ('value to replace', 'replacement'))"
   ]
  },
  {
   "cell_type": "code",
   "execution_count": null,
   "id": "9bd948e3",
   "metadata": {},
   "outputs": [],
   "source": [
    "# Function to run the different preprocessing on a reddit post steps using the preprocessor object\n",
    "def preprocess_post(post, replacements, stemming=True, numbers_processing='replace'):\n",
    "    \n",
    "    post = prep.replace_contractions(post)\n",
    "    post = prep.replace_special_words(post)\n",
    "    post = prep.replace_hashtags_URL_USER(post, mode_URL=\"delete\", mode_Mentions=\"delete\", mode_Hashtag=\"replace\")\n",
    "    post = prep.tokenize(post)\n",
    "    post = prep.remove_punctuation(post)\n",
    "    post = prep.preprocess_emojis(post)\n",
    "    post = prep.preprocess_emoticons(post)\n",
    "    post = prep.remove_non_ascii(post)\n",
    "    post = prep.to_lowercase(post)\n",
    "    post = prep.replace_numbers(post, mode=numbers_processing)\n",
    "    post = prep.lemmatize_verbs(post)\n",
    "    post = prep.remove_stopwords(post)\n",
    "    if replacements:\n",
    "        post = \" \".join(post)\n",
    "        for i in range(len(replacements)):\n",
    "            post= multiple_replace(post, *replacements[i])\n",
    "        post=post.split()\n",
    "    if stemming:\n",
    "        post = prep.stem_words(post)\n",
    "    return post\n",
    "\n",
    "# Function to run the different preprocessing on all of the posts\n",
    "def preprocess_posts(posts, *replacements, stemming=True, numbers_processing='replace'):\n",
    "    return [\" \".join(preprocess_post(post, replacements, stemming, numbers_processing)) for post in posts if post]"
   ]
  },
  {
   "cell_type": "code",
   "execution_count": null,
   "id": "658ca546",
   "metadata": {},
   "outputs": [],
   "source": [
    "# Executing the preprocessing steps and saving the results in a new columns\n",
    "replacements = [(u\"view poll\", u\"\"), (u\"httpurl\", u\"\")]\n",
    "\n",
    "df['long_covid_related_text_unstemmed_without_numbers'] = preprocess_posts(df['concatenated_sentences'], replacements, stemming=False, numbers_processing='delete')"
   ]
  },
  {
   "cell_type": "code",
   "execution_count": null,
   "id": "63ad6506",
   "metadata": {},
   "outputs": [],
   "source": [
    "# Dropping NA values and nearly empty text after the preprocessing \n",
    " df.dropna(axis=0, how='any', thresh=None, subset=['long_covid_related_text_unstemmed_without_numbers'], inplace=True)\n",
    "indices = df[df['long_covid_related_text_unstemmed_without_numbers'].str.len() < 4 ]['long_covid_related_text_unstemmed_without_numbers'].index\n",
    "df.drop(indices, inplace=True)"
   ]
  },
  {
   "cell_type": "code",
   "execution_count": null,
   "id": "11f98b83",
   "metadata": {},
   "outputs": [],
   "source": [
    "# Saving the preprocessed posts and their details into a new dataframe\n",
    "df.to_csv('reddit_posts_2022_07_21-10_16_58_AM_no_duplicates_personnal_concatenated_clean.csv')"
   ]
  },
  {
   "cell_type": "code",
   "execution_count": null,
   "id": "5ccecf9b",
   "metadata": {},
   "outputs": [],
   "source": []
  }
 ],
 "metadata": {
  "kernelspec": {
   "display_name": "Python 3 (ipykernel)",
   "language": "python",
   "name": "python3"
  },
  "language_info": {
   "codemirror_mode": {
    "name": "ipython",
    "version": 3
   },
   "file_extension": ".py",
   "mimetype": "text/x-python",
   "name": "python",
   "nbconvert_exporter": "python",
   "pygments_lexer": "ipython3",
   "version": "3.8.10"
  }
 },
 "nbformat": 4,
 "nbformat_minor": 5
}
